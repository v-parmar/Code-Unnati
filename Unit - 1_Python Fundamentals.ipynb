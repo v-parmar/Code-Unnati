{
 "cells": [
  {
   "cell_type": "code",
   "execution_count": null,
   "metadata": {},
   "outputs": [
    {
     "name": "stdout",
     "output_type": "stream",
     "text": [
      "Vishal Parmar\n"
     ]
    }
   ],
   "source": [
    "print(\"Vishal Parmar\")"
   ]
  },
  {
   "cell_type": "code",
   "execution_count": null,
   "metadata": {},
   "outputs": [
    {
     "name": "stdout",
     "output_type": "stream",
     "text": [
      "61\n",
      "6.1\n",
      "Vishal\n",
      "True\n"
     ]
    }
   ],
   "source": [
    "var1 = 61\n",
    "var2 = 6.1\n",
    "var3 = \"Vishal\"\n",
    "var4 = True\n",
    "\n",
    "print(var1)\n",
    "print(var2)\n",
    "print(var3)\n",
    "print(var4)"
   ]
  },
  {
   "cell_type": "code",
   "execution_count": null,
   "metadata": {},
   "outputs": [
    {
     "name": "stdout",
     "output_type": "stream",
     "text": [
      "<class 'int'>\n",
      "<class 'float'>\n",
      "<class 'str'>\n",
      "<class 'bool'>\n"
     ]
    }
   ],
   "source": [
    "print(type(var1))\n",
    "print(type(var2))\n",
    "print(type(var3))\n",
    "print(type(var4))"
   ]
  },
  {
   "cell_type": "code",
   "execution_count": null,
   "metadata": {},
   "outputs": [
    {
     "name": "stdout",
     "output_type": "stream",
     "text": [
      "15.25\n",
      "372.09999999999997\n"
     ]
    }
   ],
   "source": [
    "var5 = var1 / 4\n",
    "var6 = var1 * var2\n",
    "\n",
    "print(var5)\n",
    "print(var6)"
   ]
  },
  {
   "cell_type": "code",
   "execution_count": null,
   "metadata": {},
   "outputs": [
    {
     "name": "stdout",
     "output_type": "stream",
     "text": [
      "5\n",
      "7\n",
      "35\n"
     ]
    }
   ],
   "source": [
    "x = int(input(\"Enter The Value Of x: \"))\n",
    "\n",
    "y = int(input(\"Enter The Value Of y: \"))\n",
    "\n",
    "z = x * y\n",
    "\n",
    "print(x)\n",
    "print(y)\n",
    "print(z)"
   ]
  },
  {
   "cell_type": "code",
   "execution_count": null,
   "metadata": {},
   "outputs": [
    {
     "name": "stdout",
     "output_type": "stream",
     "text": [
      "2.0\n",
      "2.5\n",
      "4.5\n"
     ]
    }
   ],
   "source": [
    "x = float(input(\"Enter The Value Of x: \"))\n",
    "\n",
    "y = float(input(\"Enter The Value Of y: \"))\n",
    "\n",
    "z = x + y\n",
    "\n",
    "print(x)\n",
    "print(y)\n",
    "print(z)"
   ]
  },
  {
   "cell_type": "code",
   "execution_count": null,
   "metadata": {},
   "outputs": [
    {
     "name": "stdout",
     "output_type": "stream",
     "text": [
      "Hello \n",
      "World\n",
      "Hello World\n"
     ]
    }
   ],
   "source": [
    "x = str(input(\"Enter The Value Of x: \"))\n",
    "\n",
    "y = str(input(\"Enter The Value Of y: \"))\n",
    "\n",
    "z = x + y\n",
    "\n",
    "print(x)\n",
    "print(y)\n",
    "print(z)"
   ]
  },
  {
   "cell_type": "markdown",
   "metadata": {},
   "source": [
    "## String Concatination"
   ]
  },
  {
   "cell_type": "code",
   "execution_count": null,
   "metadata": {},
   "outputs": [
    {
     "name": "stdout",
     "output_type": "stream",
     "text": [
      "Hello \n",
      "<class 'str'>\n",
      "World\n",
      "<class 'str'>\n",
      "Hello World\n",
      "<class 'str'>\n",
      "Hello Hello \n",
      "<class 'str'>\n"
     ]
    }
   ],
   "source": [
    "str1 = \"Hello \"\n",
    "print(str1)\n",
    "print(type(str1))\n",
    "\n",
    "str2 = \"World\"\n",
    "print(str2)\n",
    "print(type(str2))\n",
    "\n",
    "str3 = str1 + str2\n",
    "print(str3)\n",
    "print(type(str3))\n",
    "\n",
    "str4 = str1 * 2\n",
    "print(str4)\n",
    "print(type(str4))"
   ]
  },
  {
   "cell_type": "markdown",
   "metadata": {},
   "source": [
    "## String Indexing and Slicing"
   ]
  },
  {
   "cell_type": "code",
   "execution_count": null,
   "metadata": {},
   "outputs": [
    {
     "name": "stdout",
     "output_type": "stream",
     "text": [
      "ITM Universe\n",
      "12\n"
     ]
    }
   ],
   "source": [
    "name = \"ITM Universe\"\n",
    "print(name)\n",
    "print(len(name))"
   ]
  },
  {
   "cell_type": "code",
   "execution_count": null,
   "metadata": {},
   "outputs": [
    {
     "data": {
      "text/plain": [
       "'v'"
      ]
     },
     "execution_count": 11,
     "metadata": {},
     "output_type": "execute_result"
    }
   ],
   "source": [
    "name[7]"
   ]
  },
  {
   "cell_type": "code",
   "execution_count": null,
   "metadata": {},
   "outputs": [
    {
     "data": {
      "text/plain": [
       "' Unive'"
      ]
     },
     "execution_count": 12,
     "metadata": {},
     "output_type": "execute_result"
    }
   ],
   "source": [
    "name[3:9]"
   ]
  },
  {
   "cell_type": "code",
   "execution_count": null,
   "metadata": {},
   "outputs": [
    {
     "data": {
      "text/plain": [
       "'niverse'"
      ]
     },
     "execution_count": 13,
     "metadata": {},
     "output_type": "execute_result"
    }
   ],
   "source": [
    "name[5:]"
   ]
  },
  {
   "cell_type": "code",
   "execution_count": null,
   "metadata": {},
   "outputs": [
    {
     "data": {
      "text/plain": [
       "'ITM Un'"
      ]
     },
     "execution_count": 14,
     "metadata": {},
     "output_type": "execute_result"
    }
   ],
   "source": [
    "name[:6]"
   ]
  },
  {
   "cell_type": "code",
   "execution_count": null,
   "metadata": {},
   "outputs": [
    {
     "data": {
      "text/plain": [
       "'Univer'"
      ]
     },
     "execution_count": 15,
     "metadata": {},
     "output_type": "execute_result"
    }
   ],
   "source": [
    "name[-8:-2]"
   ]
  },
  {
   "cell_type": "code",
   "execution_count": null,
   "metadata": {},
   "outputs": [
    {
     "data": {
      "text/plain": [
       "'IMUies'"
      ]
     },
     "execution_count": 16,
     "metadata": {},
     "output_type": "execute_result"
    }
   ],
   "source": [
    "name[0::2]"
   ]
  },
  {
   "cell_type": "code",
   "execution_count": null,
   "metadata": {},
   "outputs": [
    {
     "data": {
      "text/plain": [
       "'esrevinU MTI'"
      ]
     },
     "execution_count": 17,
     "metadata": {},
     "output_type": "execute_result"
    }
   ],
   "source": [
    "name[::-1]"
   ]
  },
  {
   "cell_type": "markdown",
   "metadata": {},
   "source": [
    "## Tuple"
   ]
  },
  {
   "cell_type": "code",
   "execution_count": null,
   "metadata": {},
   "outputs": [
    {
     "name": "stdout",
     "output_type": "stream",
     "text": [
      "('ITM', 61, 'Rohit', 45, 'Vadodara', 31)\n",
      "<class 'tuple'>\n"
     ]
    }
   ],
   "source": [
    "tup1 = (\"ITM\", 61, \"Rohit\", 45, \"Vadodara\", 31)\n",
    "print(tup1)\n",
    "print(type(tup1))"
   ]
  },
  {
   "cell_type": "code",
   "execution_count": null,
   "metadata": {},
   "outputs": [
    {
     "data": {
      "text/plain": [
       "45"
      ]
     },
     "execution_count": 19,
     "metadata": {},
     "output_type": "execute_result"
    }
   ],
   "source": [
    "tup1[3]"
   ]
  },
  {
   "cell_type": "code",
   "execution_count": null,
   "metadata": {},
   "outputs": [
    {
     "data": {
      "text/plain": [
       "('Rohit', 45, 'Vadodara', 31)"
      ]
     },
     "execution_count": 20,
     "metadata": {},
     "output_type": "execute_result"
    }
   ],
   "source": [
    "tup1[2:6]"
   ]
  },
  {
   "cell_type": "code",
   "execution_count": null,
   "metadata": {},
   "outputs": [
    {
     "name": "stdout",
     "output_type": "stream",
     "text": [
      "('ITM', 61, 'Rohit', 45, 'Vadodara', 31, 'Python', 7)\n"
     ]
    }
   ],
   "source": [
    "tup2 = (\"Python\", 7)\n",
    "\n",
    "tup3 = tup1 + tup2\n",
    "print(tup3)"
   ]
  },
  {
   "cell_type": "code",
   "execution_count": null,
   "metadata": {},
   "outputs": [
    {
     "data": {
      "text/plain": [
       "'M'"
      ]
     },
     "execution_count": 22,
     "metadata": {},
     "output_type": "execute_result"
    }
   ],
   "source": [
    "tup1[0][2:]"
   ]
  },
  {
   "cell_type": "markdown",
   "metadata": {},
   "source": [
    "## List"
   ]
  },
  {
   "cell_type": "code",
   "execution_count": null,
   "metadata": {},
   "outputs": [
    {
     "name": "stdout",
     "output_type": "stream",
     "text": [
      "['Apple', 5, 'Mango', 70, 'Cherry']\n",
      "<class 'list'>\n"
     ]
    }
   ],
   "source": [
    "lst1 = [\"Apple\", 5, \"Mango\", 70, \"Cherry\"]\n",
    "print(lst1)\n",
    "print(type(lst1))"
   ]
  },
  {
   "cell_type": "code",
   "execution_count": null,
   "metadata": {},
   "outputs": [
    {
     "data": {
      "text/plain": [
       "'Mango'"
      ]
     },
     "execution_count": 24,
     "metadata": {},
     "output_type": "execute_result"
    }
   ],
   "source": [
    "lst1[2]"
   ]
  },
  {
   "cell_type": "code",
   "execution_count": null,
   "metadata": {},
   "outputs": [
    {
     "data": {
      "text/plain": [
       "[70, 'Cherry']"
      ]
     },
     "execution_count": 25,
     "metadata": {},
     "output_type": "execute_result"
    }
   ],
   "source": [
    "lst1[3:]"
   ]
  },
  {
   "cell_type": "code",
   "execution_count": null,
   "metadata": {},
   "outputs": [
    {
     "data": {
      "text/plain": [
       "['Cherry', 70, 'Mango', 5, 'Apple']"
      ]
     },
     "execution_count": 26,
     "metadata": {},
     "output_type": "execute_result"
    }
   ],
   "source": [
    "lst1[::-1]"
   ]
  },
  {
   "cell_type": "code",
   "execution_count": null,
   "metadata": {},
   "outputs": [
    {
     "name": "stdout",
     "output_type": "stream",
     "text": [
      "['Apple', 5, 'Mango', 70, 'Cherry', 31, 'Banana']\n"
     ]
    }
   ],
   "source": [
    "lst2 = [31, \"Banana\"]\n",
    "lst3 = lst1 + lst2\n",
    "print(lst3)"
   ]
  },
  {
   "cell_type": "code",
   "execution_count": null,
   "metadata": {},
   "outputs": [
    {
     "name": "stdout",
     "output_type": "stream",
     "text": [
      "[5, 'Mango', 70, 'Cherry']\n"
     ]
    }
   ],
   "source": [
    "lst1.remove('Apple')\n",
    "print(lst1)"
   ]
  },
  {
   "cell_type": "code",
   "execution_count": null,
   "metadata": {},
   "outputs": [
    {
     "name": "stdout",
     "output_type": "stream",
     "text": [
      "[5, 'Mango', 'Cherry']\n"
     ]
    }
   ],
   "source": [
    "lst1.pop(2)\n",
    "print(lst1)"
   ]
  },
  {
   "cell_type": "markdown",
   "metadata": {},
   "source": [
    "## Set"
   ]
  },
  {
   "cell_type": "code",
   "execution_count": null,
   "metadata": {},
   "outputs": [
    {
     "name": "stdout",
     "output_type": "stream",
     "text": [
      "{'Banana', 'Cherry', 'Apple'}\n",
      "<class 'set'>\n"
     ]
    }
   ],
   "source": [
    "set1 = {'Apple', 'Cherry', 'Banana'}\n",
    "print(set1)\n",
    "print(type(set1))"
   ]
  },
  {
   "cell_type": "code",
   "execution_count": null,
   "metadata": {},
   "outputs": [
    {
     "name": "stdout",
     "output_type": "stream",
     "text": [
      "3\n"
     ]
    }
   ],
   "source": [
    "print(len(set1))"
   ]
  },
  {
   "cell_type": "code",
   "execution_count": null,
   "metadata": {},
   "outputs": [
    {
     "name": "stdout",
     "output_type": "stream",
     "text": [
      "{'Cherry', 'Apple'}\n"
     ]
    }
   ],
   "source": [
    "set1.pop()\n",
    "print(set1)"
   ]
  },
  {
   "cell_type": "code",
   "execution_count": null,
   "metadata": {},
   "outputs": [
    {
     "name": "stdout",
     "output_type": "stream",
     "text": [
      "{'Mango', 'Cherry', 'Apple'}\n"
     ]
    }
   ],
   "source": [
    "set1.add('Mango')\n",
    "print(set1)"
   ]
  },
  {
   "cell_type": "markdown",
   "metadata": {},
   "source": [
    "## Dictionary"
   ]
  },
  {
   "cell_type": "code",
   "execution_count": null,
   "metadata": {},
   "outputs": [
    {
     "name": "stdout",
     "output_type": "stream",
     "text": [
      "{'University': 'ITM', 'Branch': 'CSE', 'Div': 'A'}\n",
      "<class 'dict'>\n"
     ]
    }
   ],
   "source": [
    "dict1 = {\"University\" : \"ITM\", \"Branch\" : \"CSE\", \"Div\" : \"A\"}\n",
    "print(dict1)\n",
    "print(type(dict1))"
   ]
  },
  {
   "cell_type": "code",
   "execution_count": null,
   "metadata": {},
   "outputs": [
    {
     "name": "stdout",
     "output_type": "stream",
     "text": [
      "dict_keys(['University', 'Branch', 'Div'])\n"
     ]
    }
   ],
   "source": [
    "print(dict1.keys())"
   ]
  },
  {
   "cell_type": "code",
   "execution_count": null,
   "metadata": {},
   "outputs": [
    {
     "name": "stdout",
     "output_type": "stream",
     "text": [
      "dict_values(['ITM', 'CSE', 'A'])\n"
     ]
    }
   ],
   "source": [
    "print(dict1.values())"
   ]
  },
  {
   "cell_type": "code",
   "execution_count": null,
   "metadata": {},
   "outputs": [
    {
     "name": "stdout",
     "output_type": "stream",
     "text": [
      "3\n"
     ]
    }
   ],
   "source": [
    "print(len(dict1))"
   ]
  },
  {
   "cell_type": "code",
   "execution_count": null,
   "metadata": {},
   "outputs": [
    {
     "name": "stdout",
     "output_type": "stream",
     "text": [
      "{'Enrolment': 61}\n"
     ]
    }
   ],
   "source": [
    "dict2 = {}\n",
    "dict2['Enrolment'] = 61\n",
    "print(dict2)"
   ]
  },
  {
   "cell_type": "markdown",
   "metadata": {},
   "source": [
    "## Math Library"
   ]
  },
  {
   "cell_type": "code",
   "execution_count": null,
   "metadata": {},
   "outputs": [
    {
     "data": {
      "text/plain": [
       "3.141592653589793"
      ]
     },
     "execution_count": 39,
     "metadata": {},
     "output_type": "execute_result"
    }
   ],
   "source": [
    "from math import pi\n",
    "pi"
   ]
  },
  {
   "cell_type": "markdown",
   "metadata": {},
   "source": [
    "## Finding Area of Circle"
   ]
  },
  {
   "cell_type": "code",
   "execution_count": null,
   "metadata": {},
   "outputs": [
    {
     "name": "stdout",
     "output_type": "stream",
     "text": [
      "Value of r is: 5\n",
      "Area of the Circle is: 78.53981633974483\n"
     ]
    }
   ],
   "source": [
    "r = int(input(\"Enter The Value Of r: \"))\n",
    "area = pi*r*r\n",
    "\n",
    "print(\"Value of r is:\", r)\n",
    "print(\"Area of the Circle is:\", area)"
   ]
  },
  {
   "cell_type": "markdown",
   "metadata": {},
   "source": [
    "## For Loop"
   ]
  },
  {
   "cell_type": "code",
   "execution_count": null,
   "metadata": {},
   "outputs": [
    {
     "name": "stdout",
     "output_type": "stream",
     "text": [
      "0\n",
      "3\n",
      "6\n",
      "9\n",
      "12\n",
      "15\n",
      "18\n"
     ]
    }
   ],
   "source": [
    "for i in range (0,20,3):\n",
    "    print(i)"
   ]
  },
  {
   "cell_type": "markdown",
   "metadata": {},
   "source": [
    "## Conditional Statemnet"
   ]
  },
  {
   "cell_type": "code",
   "execution_count": null,
   "metadata": {},
   "outputs": [
    {
     "name": "stdout",
     "output_type": "stream",
     "text": [
      "7 is a positive number\n",
      "This statement is True\n"
     ]
    }
   ],
   "source": [
    "# simple if\n",
    "\n",
    "num = 7\n",
    "if num>0:\n",
    "    print(num, \"is a positive number\")\n",
    "print(\"This statement is True\")"
   ]
  },
  {
   "cell_type": "code",
   "execution_count": null,
   "metadata": {},
   "outputs": [
    {
     "name": "stdout",
     "output_type": "stream",
     "text": [
      "7 is a positive number\n"
     ]
    }
   ],
   "source": [
    "# if-else\n",
    "\n",
    "num = 7\n",
    "if num>0:\n",
    "    print(num, \"is a positive number\")\n",
    "else:\n",
    "    print(num, \"is a negative number\")"
   ]
  },
  {
   "cell_type": "code",
   "execution_count": null,
   "metadata": {},
   "outputs": [
    {
     "name": "stdout",
     "output_type": "stream",
     "text": [
      "7 is a positive number\n"
     ]
    }
   ],
   "source": [
    "# nested if\n",
    "\n",
    "num = 7\n",
    "if num>=0:\n",
    "    if num==0:\n",
    "        print(\"Zero\")\n",
    "    else:\n",
    "        print(num, \"is a positive number\")\n",
    "else:\n",
    "    print(num, \"is a negative number\")"
   ]
  },
  {
   "cell_type": "code",
   "execution_count": null,
   "metadata": {},
   "outputs": [
    {
     "data": {
      "text/plain": [
       "2062097318128"
      ]
     },
     "execution_count": 58,
     "metadata": {},
     "output_type": "execute_result"
    }
   ],
   "source": [
    "a=b=c=1"
   ]
  },
  {
   "cell_type": "code",
   "execution_count": null,
   "metadata": {},
   "outputs": [
    {
     "data": {
      "text/plain": [
       "2062097318128"
      ]
     },
     "execution_count": 60,
     "metadata": {},
     "output_type": "execute_result"
    }
   ],
   "source": [
    "id(a)"
   ]
  },
  {
   "cell_type": "code",
   "execution_count": null,
   "metadata": {},
   "outputs": [
    {
     "data": {
      "text/plain": [
       "2062097318128"
      ]
     },
     "execution_count": 59,
     "metadata": {},
     "output_type": "execute_result"
    }
   ],
   "source": [
    "id(b)"
   ]
  },
  {
   "cell_type": "markdown",
   "metadata": {},
   "source": [
    "# Assignment"
   ]
  },
  {
   "cell_type": "markdown",
   "metadata": {},
   "source": [
    "## 1. Fahrenheit to Celsius"
   ]
  },
  {
   "cell_type": "code",
   "execution_count": 161,
   "metadata": {},
   "outputs": [
    {
     "name": "stdout",
     "output_type": "stream",
     "text": [
      "Temperature in Fahrenhit is: 61.0\n",
      "Temperature in Celsius is: 16.11111111111111\n"
     ]
    }
   ],
   "source": [
    "f=float(input(\"Enter the Temperature in Fahrenhit: \"))\n",
    "print(\"Temperature in Fahrenhit is:\", f)\n",
    "\n",
    "c = float(((f-32)*5)/9)\n",
    "print(\"Temperature in Celsius is:\", c)"
   ]
  },
  {
   "cell_type": "markdown",
   "metadata": {},
   "source": [
    "## 2. Exchange the value of two variables"
   ]
  },
  {
   "cell_type": "code",
   "execution_count": null,
   "metadata": {},
   "outputs": [
    {
     "name": "stdout",
     "output_type": "stream",
     "text": [
      "First Number is: 5\n",
      "Second Number is: 7\n",
      "Values after swaping\n",
      "First Number is: 7\n",
      "Second Number is: 5\n"
     ]
    }
   ],
   "source": [
    "n1 = int(input(\"Enter number 1: \"))\n",
    "print(\"First Number is:\", n1)\n",
    "\n",
    "n2 = int(input(\"Enter number 2: \"))\n",
    "print(\"Second Number is:\", n2)\n",
    "\n",
    "print(\"Values after swaping\")\n",
    "\n",
    "n3 = n1\n",
    "n1 = n2\n",
    "n2 = n3\n",
    "\n",
    "print(\"First Number is:\", n1)\n",
    "print(\"Second Number is:\", n2)"
   ]
  },
  {
   "cell_type": "markdown",
   "metadata": {},
   "source": [
    "## 3. Find the Distance between two points"
   ]
  },
  {
   "cell_type": "code",
   "execution_count": 162,
   "metadata": {},
   "outputs": [
    {
     "name": "stdout",
     "output_type": "stream",
     "text": [
      "Cordinate of X is ( 1 , 3 )\n",
      "Cordinate of Y is ( 2 , 4 )\n",
      "Distance between X and Y = 2.8284271247461903\n"
     ]
    }
   ],
   "source": [
    "X1 = int(input(\"Enter first cordinate of x: \"))\n",
    "X2 = int(input(\"Enter second cordinate of x: \"))\n",
    "\n",
    "Y1 = int(input(\"Enter first cordinate of y: \"))\n",
    "Y2 = int(input(\"Enter second cordinate of y: \"))\n",
    "\n",
    "print(\"Cordinate of X is (\",X1,\",\",X2,\")\")\n",
    "print(\"Cordinate of Y is (\",Y1,\",\",Y2,\")\")\n",
    "\n",
    "result = ((((X2 - X1)**2)+((Y2 - Y1)**2))**0.5)\n",
    "print(\"Distance between X and Y =\", result)\n"
   ]
  },
  {
   "cell_type": "markdown",
   "metadata": {},
   "source": [
    "## 4. Operations on Tuple"
   ]
  },
  {
   "cell_type": "code",
   "execution_count": 1,
   "metadata": {},
   "outputs": [],
   "source": [
    "tup1 = ('a', 'b', 'c', 'd', 'e')\n",
    "tup2 = (1, 2, 3, 4, 5)"
   ]
  },
  {
   "cell_type": "code",
   "execution_count": 2,
   "metadata": {},
   "outputs": [
    {
     "name": "stdout",
     "output_type": "stream",
     "text": [
      "e\n",
      "5\n"
     ]
    }
   ],
   "source": [
    "# maxima\n",
    "print(max(tup1))\n",
    "print(max(tup2))"
   ]
  },
  {
   "cell_type": "code",
   "execution_count": 3,
   "metadata": {},
   "outputs": [
    {
     "name": "stdout",
     "output_type": "stream",
     "text": [
      "a\n",
      "1\n"
     ]
    }
   ],
   "source": [
    "# minima\n",
    "print(min(tup1))\n",
    "print(min(tup2))"
   ]
  },
  {
   "cell_type": "code",
   "execution_count": 4,
   "metadata": {},
   "outputs": [
    {
     "name": "stdout",
     "output_type": "stream",
     "text": [
      "('a', 'b', 'c', 'd', 'e', 1, 2, 3, 4, 5)\n"
     ]
    }
   ],
   "source": [
    "# concatination\n",
    "tup3 = tup1 + tup2\n",
    "print(tup3)"
   ]
  },
  {
   "cell_type": "code",
   "execution_count": 6,
   "metadata": {},
   "outputs": [
    {
     "name": "stdout",
     "output_type": "stream",
     "text": [
      "(1, 2, 3, 4, 5)\n"
     ]
    }
   ],
   "source": [
    "# duplicate a tuple\n",
    "tup4 = tuple(tup2)\n",
    "print(tup4)"
   ]
  },
  {
   "cell_type": "code",
   "execution_count": 8,
   "metadata": {},
   "outputs": [
    {
     "name": "stdout",
     "output_type": "stream",
     "text": [
      "('c', 'd', 'e', 1, 2, 3)\n",
      "(1, 2, 3, 4)\n"
     ]
    }
   ],
   "source": [
    "# slicing operator\n",
    "print(tup3[2:8])\n",
    "print(tup3[-5:-1])"
   ]
  },
  {
   "cell_type": "code",
   "execution_count": 9,
   "metadata": {},
   "outputs": [
    {
     "name": "stdout",
     "output_type": "stream",
     "text": [
      "[1, 2, 3, 4, 5]\n"
     ]
    }
   ],
   "source": [
    "# obtaining a list from tuple\n",
    "lst = list(tup4)\n",
    "print(lst)"
   ]
  },
  {
   "cell_type": "code",
   "execution_count": 16,
   "metadata": {},
   "outputs": [
    {
     "name": "stdout",
     "output_type": "stream",
     "text": [
      "True\n",
      "False\n",
      "False\n"
     ]
    }
   ],
   "source": [
    "# compare two tuple\n",
    "print(tup4 == tup2)\n",
    "print(tup4 > tup2)\n",
    "print(tup4 < tup2)"
   ]
  },
  {
   "cell_type": "code",
   "execution_count": 17,
   "metadata": {},
   "outputs": [
    {
     "name": "stdout",
     "output_type": "stream",
     "text": [
      "('a', 'b', 'c', 'd', 'e')\n",
      "(1, 2, 3, 4, 5)\n"
     ]
    }
   ],
   "source": [
    "# printing two tuples of different data types\n",
    "print(tup1)\n",
    "print(tup2)"
   ]
  },
  {
   "cell_type": "markdown",
   "metadata": {},
   "source": [
    "## 5. Find Square root of two numbers"
   ]
  },
  {
   "cell_type": "code",
   "execution_count": 59,
   "metadata": {},
   "outputs": [
    {
     "name": "stdout",
     "output_type": "stream",
     "text": [
      "Input number is: 4\n",
      "Square root of 4 is 2.0\n"
     ]
    }
   ],
   "source": [
    "# using operator\n",
    "num = eval(input(\"Enter the Number: \"))\n",
    "print(\"Input number is:\",num)\n",
    "\n",
    "result = (num)**0.5\n",
    "\n",
    "if type(num) == float:\n",
    "    print(\"You entered Float Number instead of Integer Number\")\n",
    "elif type(num) == int:\n",
    "    print(\"Square root of\",num,\"is\",result)"
   ]
  },
  {
   "cell_type": "code",
   "execution_count": 61,
   "metadata": {},
   "outputs": [
    {
     "name": "stdout",
     "output_type": "stream",
     "text": [
      "Input number is: 4\n",
      "Square root of 4 is 2.0\n"
     ]
    }
   ],
   "source": [
    "# using math library\n",
    "import math\n",
    "\n",
    "num = eval(input(\"Enter the Number: \"))\n",
    "print(\"Input number is:\",num)\n",
    "\n",
    "if type(num) == float:\n",
    "    print(\"You entered Float Number instead of Integer Number\")\n",
    "elif type(num) == int:\n",
    "    print(\"Square root of\",num,\"is\",math.sqrt(num))"
   ]
  },
  {
   "cell_type": "markdown",
   "metadata": {},
   "source": [
    "## 6. Find Factorial of given number"
   ]
  },
  {
   "cell_type": "code",
   "execution_count": 136,
   "metadata": {},
   "outputs": [
    {
     "name": "stdout",
     "output_type": "stream",
     "text": [
      "Input number is: 5\n",
      "Factorial of 5 is: 120\n"
     ]
    }
   ],
   "source": [
    "# using function\n",
    "num = eval(input(\"Enter the Number: \"))\n",
    "print(\"Input number is:\",num)\n",
    "\n",
    "if type(num) == float:\n",
    "    print(\"You entered Float Number instead of Integer Number\")\n",
    "elif type(num) == int:\n",
    "    def factorial(num):\n",
    "        if num < 0:\n",
    "            print(\"Factorial doesn't exist for Negative number\")\n",
    "        elif num == 0 | num == 1:\n",
    "            return 1\n",
    "        else:\n",
    "            return num * factorial (num - 1)\n",
    "    print(\"Factorial of\",num,\"is:\",factorial(num))"
   ]
  },
  {
   "cell_type": "code",
   "execution_count": 56,
   "metadata": {},
   "outputs": [
    {
     "name": "stdout",
     "output_type": "stream",
     "text": [
      "Input number is: 5\n",
      "Factorial of 5 is: 120\n"
     ]
    }
   ],
   "source": [
    "# using math library\n",
    "import math\n",
    "\n",
    "def factorial(num):\n",
    "\treturn(math.factorial(num))\n",
    "\n",
    "num = eval(input(\"Enter the Number: \"))\n",
    "print(\"Input number is:\",num)\n",
    "\n",
    "if type(num) == float:\n",
    "    print(\"You entered Float Number instead of Integer Number\")\n",
    "elif type(num) == int:\n",
    "    print(\"Factorial of\",num,\"is:\",factorial(num))"
   ]
  },
  {
   "cell_type": "markdown",
   "metadata": {},
   "source": [
    "## 7. Find sum of digits of a number"
   ]
  },
  {
   "cell_type": "code",
   "execution_count": 67,
   "metadata": {},
   "outputs": [
    {
     "name": "stdout",
     "output_type": "stream",
     "text": [
      "Input Number is: 123\n",
      "Sum of all the digits of 123 is 6\n"
     ]
    }
   ],
   "source": [
    "def nsum(n):\n",
    "    if n == 0:\n",
    "        return 0\n",
    "    else:\n",
    "        sum = 0\n",
    "        for i in str(n):\n",
    "            sum += int(i)\n",
    "        return sum\n",
    "\n",
    "n = input(\"Enter a Number:\")\n",
    "print(\"Input Number is:\",n)\n",
    "print(\"Sum of all the digits of\",n,\"is\",nsum(n))"
   ]
  },
  {
   "cell_type": "markdown",
   "metadata": {},
   "source": [
    "## 8. Reverse the given number"
   ]
  },
  {
   "cell_type": "code",
   "execution_count": 69,
   "metadata": {},
   "outputs": [
    {
     "name": "stdout",
     "output_type": "stream",
     "text": [
      "Input Number is: 123\n",
      "Reverse of 123 is 321\n"
     ]
    }
   ],
   "source": [
    "# using string slicing\n",
    "n = input(\"Enter a Number:\")\n",
    "print(\"Input Number is:\",n)\n",
    "\n",
    "result = n[::-1]\n",
    "print(\"Reverse of\",n,\"is\",result)"
   ]
  },
  {
   "cell_type": "code",
   "execution_count": 97,
   "metadata": {},
   "outputs": [
    {
     "name": "stdout",
     "output_type": "stream",
     "text": [
      "Input is: 1234\n",
      "Reverse of Input is: 4321\n"
     ]
    }
   ],
   "source": [
    "# using while loop\n",
    "n = input(\"Enter an Input:\")\n",
    "print(\"Your Input is:\",n)\n",
    "\n",
    "if n.isalpha() == True:\n",
    "    print(\"Please enter the number instead of alphabet\")\n",
    "elif n.isdigit() == True:\n",
    "    n = int(n)\n",
    "    num = 0\n",
    "\n",
    "    while n != 0:\n",
    "        x = n % 10\n",
    "        num = num*10 + x\n",
    "        n //= 10\n",
    "    print(\"Reverse of Input is:\",num)\n",
    "else:\n",
    "    print(\"Invalid Input\")"
   ]
  },
  {
   "cell_type": "markdown",
   "metadata": {},
   "source": [
    "## 9. Check the given number is palindrome or not"
   ]
  },
  {
   "cell_type": "code",
   "execution_count": 106,
   "metadata": {},
   "outputs": [
    {
     "name": "stdout",
     "output_type": "stream",
     "text": [
      "Input is: 1221\n",
      "Given input is palindrome\n"
     ]
    }
   ],
   "source": [
    "# using function\n",
    "def palindrome(n):\n",
    "    return n == n[::-1]\n",
    "\n",
    "n = input(\"Enter an Input: \")\n",
    "print(\"Your Input is:\",n)\n",
    "\n",
    "result = palindrome(n)\n",
    "if result:\n",
    "    print(\"Given input is palindrome\")\n",
    "else:\n",
    "    print(\"Given input is not palindrome\")"
   ]
  },
  {
   "cell_type": "code",
   "execution_count": 114,
   "metadata": {},
   "outputs": [
    {
     "name": "stdout",
     "output_type": "stream",
     "text": [
      "Input is: 1221\n",
      "Given input is palindrome\n"
     ]
    }
   ],
   "source": [
    "# using for loop\n",
    "n = input(\"Enter an Input: \")\n",
    "print(\"Your Input is:\",n)\n",
    "num = \"\"\n",
    "\n",
    "for i in n:\n",
    "    num = i + num\n",
    "\n",
    "if n == num:\n",
    "    print(\"Given input is palindrome\")\n",
    "else:\n",
    "    print(\"Given input is not palindrome\")"
   ]
  },
  {
   "cell_type": "markdown",
   "metadata": {},
   "source": [
    "## 10. Print fibonacci series"
   ]
  },
  {
   "cell_type": "code",
   "execution_count": 131,
   "metadata": {},
   "outputs": [
    {
     "name": "stdout",
     "output_type": "stream",
     "text": [
      "Your Input is: 5\n",
      "Fibonacci Series: 0 1 1 2 3 "
     ]
    }
   ],
   "source": [
    "# using for loop\n",
    "n = int(input(\"Enter an Input:\"))\n",
    "print(\"Your Input is:\",n)\n",
    "\n",
    "n1 = 0\n",
    "n2 = 1\n",
    "print(\"Fibonacci Series:\", n1, n2, end=\" \")\n",
    "for i in range(2, n):\n",
    "\tn3 = n1 + n2\n",
    "\tn1 = n2\n",
    "\tn2 = n3\n",
    "\tprint(n3, end=\" \")"
   ]
  },
  {
   "cell_type": "code",
   "execution_count": 130,
   "metadata": {},
   "outputs": [
    {
     "name": "stdout",
     "output_type": "stream",
     "text": [
      "Your Input is: 5\n",
      "Fibonacci Series: 0 1 1 2 3 "
     ]
    }
   ],
   "source": [
    "# using function\n",
    "def fibonacciSeries(n):\n",
    "    if n <= 1 :\n",
    "        return n\n",
    "    else:\n",
    "        return (fibonacciSeries(n - 1) + fibonacciSeries(n - 2))\n",
    "\n",
    "n = int(input(\"Enter an Input:\"))\n",
    "print(\"Your Input is:\",n)\n",
    "\n",
    "if n < 0:\n",
    "    print(\"Please enter a Positive Number\")\n",
    "elif n == 0:\n",
    "    print(\"Fibonacci Series: 0\")\n",
    "else:\n",
    "    print(\"Fibonacci Series:\", end=\" \")\n",
    "for i in range(n):\n",
    "    print(fibonacciSeries(i), end=\" \")"
   ]
  },
  {
   "cell_type": "markdown",
   "metadata": {},
   "source": [
    "## 11. Print prime numbers in range"
   ]
  },
  {
   "cell_type": "code",
   "execution_count": 138,
   "metadata": {},
   "outputs": [
    {
     "name": "stdout",
     "output_type": "stream",
     "text": [
      "Lower value is: 0\n",
      "Upper value is: 10\n",
      "Prime numbers between 0 and 10 are:\n",
      "2\n",
      "3\n",
      "5\n",
      "7\n"
     ]
    }
   ],
   "source": [
    "lower = int(input(\"Enter the lower value: \"))\n",
    "print(\"Lower value is:\",lower)\n",
    "upper = int(input(\"Enter the upper value: \"))\n",
    "print(\"Upper value is:\",upper)\n",
    "\n",
    "print(\"Prime numbers between\",lower,\"and\",upper,\"are:\")\n",
    "\n",
    "for i in range(lower, upper + 1):\n",
    "    if i > 1:\n",
    "        for j in range(2, i):\n",
    "            if i % j == 0:\n",
    "                break\n",
    "        else:\n",
    "            print(i)"
   ]
  },
  {
   "cell_type": "markdown",
   "metadata": {},
   "source": [
    "## 12. Find greatest of three numbers"
   ]
  },
  {
   "cell_type": "code",
   "execution_count": 140,
   "metadata": {},
   "outputs": [
    {
     "name": "stdout",
     "output_type": "stream",
     "text": [
      "Greatest number from ( 5.0 , 6.0 , 7.0 ) is 7.0\n"
     ]
    }
   ],
   "source": [
    "# using max() function\n",
    "n1 = float(input(\"Enter first number: \"))\n",
    "n2 = float(input(\"Enter second number: \"))\n",
    "n3 = float(input(\"Enter third number: \"))\n",
    "\n",
    "print(\"Greatest number from\",\"(\",n1,\",\",n2,\",\",n3,\") is\",max(n1,n2,n3))"
   ]
  },
  {
   "cell_type": "code",
   "execution_count": 155,
   "metadata": {},
   "outputs": [
    {
     "name": "stdout",
     "output_type": "stream",
     "text": [
      "Greatest number from ( 5.0 , 6.0 , 7.0 ) is 7.0\n"
     ]
    }
   ],
   "source": [
    "# using function\n",
    "def greatest(n1,n2,n3):\n",
    "    if (n1 >= n2) & (n1 >= n3) :\n",
    "        max = n1\n",
    "    elif (n2 >= n1) & (n2 >= n3) :\n",
    "        max = n2\n",
    "    else:\n",
    "        max = n3\n",
    "\n",
    "    return max\n",
    "\n",
    "n1 = float(input(\"Enter first number: \"))\n",
    "n2 = float(input(\"Enter second number: \"))\n",
    "n3 = float(input(\"Enter third number: \"))\n",
    "\n",
    "print(\"Greatest number from\",\"(\",n1,\",\",n2,\",\",n3,\") is\",greatest(n1,n2,n3))"
   ]
  },
  {
   "cell_type": "markdown",
   "metadata": {},
   "source": [
    "## 13. Create a calculator"
   ]
  },
  {
   "cell_type": "code",
   "execution_count": 158,
   "metadata": {},
   "outputs": [
    {
     "name": "stdout",
     "output_type": "stream",
     "text": [
      "Select Operation:\n",
      "1. Add\n",
      "2. Subtract\n",
      "3. Mutiply\n",
      "4. Divide\n",
      "First number is: 7\n",
      "Second number is: 5\n",
      "Multiplication of 7 and 5 is 35\n"
     ]
    }
   ],
   "source": [
    "def add(x,y):\n",
    "    return x+y\n",
    "    \n",
    "def subtract(x,y):\n",
    "    return x-y\n",
    "\n",
    "def multiply(x,y):\n",
    "    return x*y\n",
    "\n",
    "def divide(x,y):\n",
    "    return x/y\n",
    "\n",
    "print(\"Select Operation:\")\n",
    "print(\"1. Add\")\n",
    "print(\"2. Subtract\")\n",
    "print(\"3. Mutiply\")\n",
    "print(\"4. Divide\")\n",
    "\n",
    "choice = int(input(\"Enter choice (1/2/3/4): \"))\n",
    "\n",
    "n1 = int(input(\"Enter a first number: \"))\n",
    "n2 = int(input(\"Enter a second number: \"))\n",
    "\n",
    "print(\"First number is:\", n1)\n",
    "print(\"Second number is:\", n2)\n",
    "\n",
    "if choice==1:\n",
    "    print(\"Addition of\", n1, \"and\", n2, \"is\", add(n1, n2))\n",
    "elif choice==2:\n",
    "    print(\"Subtraction of\", n1, \"and\", n2, \"is\", subtract(n1, n2))\n",
    "elif choice==3:\n",
    "    print(\"Multiplication of\", n1, \"and\", n2, \"is\", multiply(n1, n2))\n",
    "elif choice==4:\n",
    "    print(\"Division of\", n1, \"and\", n2, \"is\", divide(n1, n2))\n",
    "else:\n",
    "    print(\"Invalid Choice\")"
   ]
  }
 ],
 "metadata": {
  "kernelspec": {
   "display_name": "Python 3.10.5 64-bit",
   "language": "python",
   "name": "python3"
  },
  "language_info": {
   "codemirror_mode": {
    "name": "ipython",
    "version": 3
   },
   "file_extension": ".py",
   "mimetype": "text/x-python",
   "name": "python",
   "nbconvert_exporter": "python",
   "pygments_lexer": "ipython3",
   "version": "3.10.5"
  },
  "orig_nbformat": 4,
  "vscode": {
   "interpreter": {
    "hash": "52634da84371cba311ea128a5ea7cdc41ff074b781779e754b270ff9f8153cee"
   }
  }
 },
 "nbformat": 4,
 "nbformat_minor": 2
}
